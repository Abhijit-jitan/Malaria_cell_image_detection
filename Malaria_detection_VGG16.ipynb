{
 "cells": [
  {
   "cell_type": "code",
   "execution_count": null,
   "id": "greenhouse-senator",
   "metadata": {},
   "outputs": [],
   "source": [
    "## About Data:\n"
   ]
  },
  {
   "cell_type": "code",
   "execution_count": null,
   "id": "awful-difference",
   "metadata": {},
   "outputs": [],
   "source": [
    "## Importing Main Libraries\n",
    "import numpy as np\n",
    "import tensorflow as tf\n",
    "from tensorflow import keras"
   ]
  },
  {
   "cell_type": "code",
   "execution_count": null,
   "id": "expressed-repository",
   "metadata": {},
   "outputs": [],
   "source": [
    "## Load Data\n",
    "train_path = '/kaggle/input/cell-images-for-detecting-malaria/cell_images/'\n",
    "\n",
    "## Image Augmentation:\n",
    "from tensorflow.keras.preprocessing.image import ImageDataGenerator\n",
    "\n",
    "image_gen=ImageDataGenerator(preprocessing_function=tf.keras.applications.vgg16.preprocess_input,rotation_range=20,width_shift_range=0.1,height_shift_range=0.1,\n",
    "rescale=1/225,shear_range=0.1,zoom_range=0.1,horizontal_flip=True,validation_split=0.2)\n",
    "                               \n",
    "\n",
    "train=image_gen.flow_from_directory(directory=train_path,target_size=(224,224),classes=['Parasitized','Uninfected'],batch_size=32,shuffle=True,subset=\"training\")\n",
    "valid=image_gen.flow_from_directory(directory=train_path,target_size=(224,224),classes=['Parasitized','Uninfected'],batch_size=32,shuffle=True,subset=\"validation\")"
   ]
  },
  {
   "cell_type": "code",
   "execution_count": null,
   "id": "established-macintosh",
   "metadata": {},
   "outputs": [],
   "source": [
    "## Target Class\n",
    "train.class_indices\n",
    "valid.class_indices"
   ]
  },
  {
   "cell_type": "code",
   "execution_count": null,
   "id": "charitable-checklist",
   "metadata": {},
   "outputs": [],
   "source": [
    "## Train-Batch Visualization:\n",
    "import matplotlib.pyplot as plt\n",
    "%matplotlib inline\n",
    "\n",
    "imgs,label=next(train)\n",
    "def plotImages(img_arr):\n",
    "    fig,axes=plt.subplots(1,10,figsize=(20,20))\n",
    "    axes=axes.flatten()\n",
    "    for img,ax in zip(img_arr,axes):\n",
    "        ax.imshow(img)\n",
    "        ax.axis('off')\n",
    "    plt.tight_layout()\n",
    "    plt.show()\n",
    "plotImages(imgs)\n",
    "print(label)"
   ]
  },
  {
   "cell_type": "code",
   "execution_count": null,
   "id": "continuing-integral",
   "metadata": {},
   "outputs": [],
   "source": [
    "## Loading VGG-16\n",
    "vgg16=tf.keras.applications.vgg16.VGG16()\n",
    "type(vgg16)\n",
    "vgg16.summary()\n"
   ]
  },
  {
   "cell_type": "code",
   "execution_count": null,
   "id": "brave-foster",
   "metadata": {},
   "outputs": [],
   "source": [
    "## Customizing VGG16\n",
    "from tensorflow.keras.models import Sequential\n",
    "from tensorflow.keras.layers import Activation,Dense,Flatten\n",
    "\n",
    "# Creating New Sequential Model(to replicate Vgg16)\n",
    "model=Sequential(name=\"Customized_Vgg16\")     ## creates new model(without last 3 vgg-16 layer)\n",
    "for layer in vgg16.layers[:-3]:\n",
    "    model.add(layer) \n",
    "\n",
    "# Creating Dense layers for New-Model\n",
    "for layer in model.layers:\n",
    "    layer.trainable=False    # Freeze traing for old layers\n",
    "#model.add(Dense(units=64,activation='relu'))\n",
    "model.add(Dense(units=128,activation='relu'))\n",
    "#model.add(Dense(units=64,activation='relu'))\n",
    "model.add(Dense(units=2,activation='softmax',name=\"op\"))\n",
    "\n",
    "model.summary()"
   ]
  },
  {
   "cell_type": "code",
   "execution_count": null,
   "id": "diverse-folder",
   "metadata": {},
   "outputs": [],
   "source": [
    "## Model Compile\n",
    "from tensorflow.keras.optimizers import Adam\n",
    "from tensorflow.keras.metrics import categorical_crossentropy\n",
    "\n",
    "model.compile(optimizer=Adam(learning_rate=0.0001),loss='categorical_crossentropy',metrics=['accuracy'])\n",
    "\n",
    "\n",
    "## Early Stpping:\n",
    "es=tf.keras.callbacks.EarlyStopping(monitor='loss',patience=3)\n",
    "## ReduceLROnPlateau:\n",
    "red_lr=tf.keras.callbacks.ReduceLROnPlateau(monitor='val_loss',factor=0.2,patience=5,min_lr=0.0001)\n",
    "## CSV Logger:\n",
    "#csvlogger=tf.keras.callbacks.CSVLogger(filename=r\"C:\\Desktop\\file.txt\",separator=',',append=False)\n",
    "\n",
    "\n",
    "## Model Training\n",
    "history=model.fit(x=train,steps_per_epoch=len(train),validation_data=valid,epochs=15,verbose=1,callbacks=[es,red_lr])"
   ]
  },
  {
   "cell_type": "code",
   "execution_count": null,
   "id": "environmental-mandate",
   "metadata": {},
   "outputs": [],
   "source": [
    "import pandas as pd\n",
    "losses = pd.DataFrame(model.history.history)\n",
    "losses[['loss','val_loss']].plot()\n",
    "losses[['accuracy','val_accuracy']].plot()"
   ]
  },
  {
   "cell_type": "code",
   "execution_count": null,
   "id": "literary-replication",
   "metadata": {},
   "outputs": [],
   "source": [
    "predictions = model.predict(valid)\n",
    "#predictions = predictions>0.5\n",
    "print('Confusion Matrix: \\n',confusion_matrix(valid.classes,predictions),'\\n')\n",
    "print('Classification Report: \\n\\n',classification_report(valid.classes,predictions))"
   ]
  },
  {
   "cell_type": "code",
   "execution_count": null,
   "id": "afraid-imagination",
   "metadata": {},
   "outputs": [],
   "source": [
    "model.save('model.h5')"
   ]
  }
 ],
 "metadata": {
  "kernelspec": {
   "display_name": "Python 3",
   "language": "python",
   "name": "python3"
  },
  "language_info": {
   "codemirror_mode": {
    "name": "ipython",
    "version": 3
   },
   "file_extension": ".py",
   "mimetype": "text/x-python",
   "name": "python",
   "nbconvert_exporter": "python",
   "pygments_lexer": "ipython3",
   "version": "3.6.8"
  }
 },
 "nbformat": 4,
 "nbformat_minor": 5
}
